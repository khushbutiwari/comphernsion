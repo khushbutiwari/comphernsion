{
 "cells": [
  {
   "cell_type": "code",
   "execution_count": 1,
   "metadata": {},
   "outputs": [],
   "source": [
    "l=[1,2,23,41,35,]\n",
    "l1=[]\n",
    "for i in l:\n",
    "    l1.append(i**2)\n"
   ]
  },
  {
   "cell_type": "code",
   "execution_count": 2,
   "metadata": {},
   "outputs": [
    {
     "data": {
      "text/plain": [
       "[1, 4, 529, 1681, 1225]"
      ]
     },
     "execution_count": 2,
     "metadata": {},
     "output_type": "execute_result"
    }
   ],
   "source": [
    "l1"
   ]
  },
  {
   "cell_type": "code",
   "execution_count": 3,
   "metadata": {},
   "outputs": [
    {
     "data": {
      "text/plain": [
       "[1, 4, 529, 1681, 1225]"
      ]
     },
     "execution_count": 3,
     "metadata": {},
     "output_type": "execute_result"
    }
   ],
   "source": [
    "[i**2 for i in l]"
   ]
  },
  {
   "cell_type": "code",
   "execution_count": 4,
   "metadata": {},
   "outputs": [
    {
     "data": {
      "text/plain": [
       "[2]"
      ]
     },
     "execution_count": 4,
     "metadata": {},
     "output_type": "execute_result"
    }
   ],
   "source": [
    "[i for i in l if i%2==0]"
   ]
  },
  {
   "cell_type": "code",
   "execution_count": 5,
   "metadata": {},
   "outputs": [
    {
     "data": {
      "text/plain": [
       "['KHUSH', 'ANTIMA', 'MUNNI', 'ANNU']"
      ]
     },
     "execution_count": 5,
     "metadata": {},
     "output_type": "execute_result"
    }
   ],
   "source": [
    "l1=[\"khush\",\"antima\",\"munni\",\"annu\"]\n",
    "[i .upper()for i in l1]"
   ]
  },
  {
   "cell_type": "code",
   "execution_count": 6,
   "metadata": {},
   "outputs": [],
   "source": [
    "#dict comphersion"
   ]
  },
  {
   "cell_type": "code",
   "execution_count": 7,
   "metadata": {},
   "outputs": [
    {
     "data": {
      "text/plain": [
       "[1, 2, 23, 41, 35]"
      ]
     },
     "execution_count": 7,
     "metadata": {},
     "output_type": "execute_result"
    }
   ],
   "source": [
    "l"
   ]
  },
  {
   "cell_type": "code",
   "execution_count": 8,
   "metadata": {},
   "outputs": [
    {
     "data": {
      "text/plain": [
       "[1, 4, 529, 1681, 1225]"
      ]
     },
     "execution_count": 8,
     "metadata": {},
     "output_type": "execute_result"
    }
   ],
   "source": [
    "list(i**2for i in l)"
   ]
  },
  {
   "cell_type": "code",
   "execution_count": 9,
   "metadata": {},
   "outputs": [
    {
     "ename": "TypeError",
     "evalue": "unsupported operand type(s) for ** or pow(): 'str' and 'int'",
     "output_type": "error",
     "traceback": [
      "\u001b[1;31m---------------------------------------------------------------------------\u001b[0m",
      "\u001b[1;31mTypeError\u001b[0m                                 Traceback (most recent call last)",
      "\u001b[1;32mc:\\Users\\khush\\OneDrive\\Desktop\\code\\100 days of code\\comphrension.ipynb Cell 9\u001b[0m in \u001b[0;36m<cell line: 2>\u001b[1;34m()\u001b[0m\n\u001b[0;32m      <a href='vscode-notebook-cell:/c%3A/Users/khush/OneDrive/Desktop/code/100%20days%20of%20code/comphrension.ipynb#X11sZmlsZQ%3D%3D?line=0'>1</a>\u001b[0m d\u001b[39m=\u001b[39m{\u001b[39m1\u001b[39m:\u001b[39m\"\u001b[39m\u001b[39mmon\u001b[39m\u001b[39m\"\u001b[39m,\u001b[39m2\u001b[39m:\u001b[39m\"\u001b[39m\u001b[39mtues\u001b[39m\u001b[39m\"\u001b[39m,\u001b[39m3\u001b[39m:\u001b[39m\"\u001b[39m\u001b[39mwed\u001b[39m\u001b[39m\"\u001b[39m,\u001b[39m4\u001b[39m:\u001b[39m\"\u001b[39m\u001b[39mthrusday\u001b[39m\u001b[39m\"\u001b[39m}\n\u001b[1;32m----> <a href='vscode-notebook-cell:/c%3A/Users/khush/OneDrive/Desktop/code/100%20days%20of%20code/comphrension.ipynb#X11sZmlsZQ%3D%3D?line=1'>2</a>\u001b[0m {k:v\u001b[39m*\u001b[39m\u001b[39m*\u001b[39m\u001b[39m2\u001b[39m \u001b[39mfor\u001b[39;00m k,v \u001b[39min\u001b[39;00m d\u001b[39m.\u001b[39mitems()}\n\u001b[0;32m      <a href='vscode-notebook-cell:/c%3A/Users/khush/OneDrive/Desktop/code/100%20days%20of%20code/comphrension.ipynb#X11sZmlsZQ%3D%3D?line=2'>3</a>\u001b[0m d\u001b[39m.\u001b[39mitems()\n",
      "\u001b[1;32mc:\\Users\\khush\\OneDrive\\Desktop\\code\\100 days of code\\comphrension.ipynb Cell 9\u001b[0m in \u001b[0;36m<dictcomp>\u001b[1;34m(.0)\u001b[0m\n\u001b[0;32m      <a href='vscode-notebook-cell:/c%3A/Users/khush/OneDrive/Desktop/code/100%20days%20of%20code/comphrension.ipynb#X11sZmlsZQ%3D%3D?line=0'>1</a>\u001b[0m d\u001b[39m=\u001b[39m{\u001b[39m1\u001b[39m:\u001b[39m\"\u001b[39m\u001b[39mmon\u001b[39m\u001b[39m\"\u001b[39m,\u001b[39m2\u001b[39m:\u001b[39m\"\u001b[39m\u001b[39mtues\u001b[39m\u001b[39m\"\u001b[39m,\u001b[39m3\u001b[39m:\u001b[39m\"\u001b[39m\u001b[39mwed\u001b[39m\u001b[39m\"\u001b[39m,\u001b[39m4\u001b[39m:\u001b[39m\"\u001b[39m\u001b[39mthrusday\u001b[39m\u001b[39m\"\u001b[39m}\n\u001b[1;32m----> <a href='vscode-notebook-cell:/c%3A/Users/khush/OneDrive/Desktop/code/100%20days%20of%20code/comphrension.ipynb#X11sZmlsZQ%3D%3D?line=1'>2</a>\u001b[0m {k:v\u001b[39m*\u001b[39;49m\u001b[39m*\u001b[39;49m\u001b[39m2\u001b[39;49m \u001b[39mfor\u001b[39;00m k,v \u001b[39min\u001b[39;00m d\u001b[39m.\u001b[39mitems()}\n\u001b[0;32m      <a href='vscode-notebook-cell:/c%3A/Users/khush/OneDrive/Desktop/code/100%20days%20of%20code/comphrension.ipynb#X11sZmlsZQ%3D%3D?line=2'>3</a>\u001b[0m d\u001b[39m.\u001b[39mitems()\n",
      "\u001b[1;31mTypeError\u001b[0m: unsupported operand type(s) for ** or pow(): 'str' and 'int'"
     ]
    }
   ],
   "source": [
    "d={1:\"mon\",2:\"tues\",3:\"wed\",4:\"thrusday\"}\n",
    "{k:v**2 for k,v in d.items()}\n",
    "d.items()"
   ]
  },
  {
   "cell_type": "code",
   "execution_count": 2,
   "metadata": {},
   "outputs": [
    {
     "ename": "NameError",
     "evalue": "name 'd' is not defined",
     "output_type": "error",
     "traceback": [
      "\u001b[1;31m---------------------------------------------------------------------------\u001b[0m",
      "\u001b[1;31mNameError\u001b[0m                                 Traceback (most recent call last)",
      "Cell \u001b[1;32mIn[2], line 1\u001b[0m\n\u001b[1;32m----> 1\u001b[0m { k:v \u001b[39mfor\u001b[39;00m k,v \u001b[39min\u001b[39;00m d\u001b[39m.\u001b[39mitems() \u001b[39mif\u001b[39;00m v\u001b[39m>\u001b[39m\u001b[39m1\u001b[39m}\n",
      "\u001b[1;31mNameError\u001b[0m: name 'd' is not defined"
     ]
    }
   ],
   "source": [
    "{ k:v for k,v in d.items() if v>1}"
   ]
  },
  {
   "attachments": {},
   "cell_type": "markdown",
   "metadata": {},
   "source": []
  }
 ],
 "metadata": {
  "kernelspec": {
   "display_name": "Python 3",
   "language": "python",
   "name": "python3"
  },
  "language_info": {
   "codemirror_mode": {
    "name": "ipython",
    "version": 3
   },
   "file_extension": ".py",
   "mimetype": "text/x-python",
   "name": "python",
   "nbconvert_exporter": "python",
   "pygments_lexer": "ipython3",
   "version": "3.11.0"
  },
  "orig_nbformat": 4
 },
 "nbformat": 4,
 "nbformat_minor": 2
}
